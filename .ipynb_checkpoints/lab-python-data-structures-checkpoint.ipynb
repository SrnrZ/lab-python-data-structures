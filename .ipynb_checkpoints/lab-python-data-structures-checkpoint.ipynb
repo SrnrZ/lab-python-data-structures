{
 "cells": [
  {
   "cell_type": "markdown",
   "metadata": {
    "tags": []
   },
   "source": [
    "# Lab | Data Structures "
   ]
  },
  {
   "cell_type": "markdown",
   "metadata": {},
   "source": [
    "## Exercise: Managing Customer Orders\n",
    "\n",
    "As part of a business venture, you are starting an online store that sells various products. To ensure smooth operations, you need to develop a program that manages customer orders and inventory.\n",
    "\n",
    "Follow the steps below to complete the exercise:\n",
    "\n",
    "1. Define a list called `products` that contains the following items: \"t-shirt\", \"mug\", \"hat\", \"book\", \"keychain\".\n",
    "\n",
    "2. Create an empty dictionary called `inventory`.\n",
    "\n",
    "3. Ask the user to input the quantity of each product available in the inventory. Use the product names from the `products` list as keys in the `inventory` dictionary and assign the respective quantities as values.\n",
    "\n",
    "4. Create an empty set called `customer_orders`.\n",
    "\n",
    "5. Ask the user to input the name of three products that a customer wants to order (from those in the products list, meaning three products out of \"t-shirt\", \"mug\", \"hat\", \"book\" or \"keychain\". Add each product name to the `customer_orders` set.\n",
    "\n",
    "6. Print the products in the `customer_orders` set.\n",
    "\n",
    "7. Calculate the following order statistics:\n",
    "   - Total Products Ordered: The total number of products in the `customer_orders` set.\n",
    "   - Percentage of Products Ordered: The percentage of products ordered compared to the total available products.\n",
    "   \n",
    "   Store these statistics in a tuple called `order_status`.\n",
    "\n",
    "8. Print the order statistics using the following format:\n",
    "   ```\n",
    "   Order Statistics:\n",
    "   Total Products Ordered: <total_products_ordered>\n",
    "   Percentage of Products Ordered: <percentage_ordered>% \n",
    "   ```\n",
    "\n",
    "9. Update the inventory by subtracting 1 from the quantity of each product. Modify the `inventory` dictionary accordingly.\n",
    "\n",
    "10. Print the updated inventory, displaying the quantity of each product on separate lines.\n",
    "\n",
    "Solve the exercise by implementing the steps using the Python concepts of lists, dictionaries, sets, and basic input/output operations. "
   ]
  },
  {
   "cell_type": "code",
   "execution_count": 1,
   "metadata": {},
   "outputs": [
    {
     "name": "stdin",
     "output_type": "stream",
     "text": [
      "Please enter the quantity for t'shirts:  1\n",
      "Please enter the quantity for mug:  2\n",
      "Please enter the quantity for hat:  3\n",
      "Please enter the quantity for book:  4\n",
      "Please enter the quantity for keychain:  5\n"
     ]
    },
    {
     "name": "stdout",
     "output_type": "stream",
     "text": [
      "{'t-shirt': 1, 'mug': 2, 'hat': 3, 'book': 4, 'keychain': 5}\n"
     ]
    }
   ],
   "source": [
    "# Task 1 Product List\n",
    "products = [\"t-shirt\", \"mug\", \"hat\", \"book\", \"keychain\"]\n",
    "\n",
    "# Task 2 empty dictionary\n",
    "inventory = {}\n",
    "\n",
    "# Task 3 Asign quantities by user\n",
    "input_shirt = int(input(\"Please enter the quantity for t'shirts: \"))\n",
    "input_mug = int(input(\"Please enter the quantity for mug: \"))\n",
    "input_hat = int(input(\"Please enter the quantity for hat: \"))\n",
    "input_book = int(input(\"Please enter the quantity for book: \"))\n",
    "input_keychain = int(input(\"Please enter the quantity for keychain: \"))\n",
    "\n",
    "inventory[\"t-shirt\"] = input_shirt\n",
    "inventory[\"mug\"] = input_mug\n",
    "inventory[\"hat\"] = input_hat\n",
    "inventory[\"book\"] = input_book\n",
    "inventory[\"keychain\"] = input_keychain\n",
    "\n",
    "print(inventory)\n"
   ]
  },
  {
   "cell_type": "code",
   "execution_count": 2,
   "metadata": {},
   "outputs": [
    {
     "name": "stdin",
     "output_type": "stream",
     "text": [
      "Please name three products from the list (\"t-shirt\", \"mug\", \"hat\", \"book\", \"keychain\"):  mug, hat, book\n"
     ]
    },
    {
     "name": "stdout",
     "output_type": "stream",
     "text": [
      "mug, hat, book\n"
     ]
    }
   ],
   "source": [
    "# Task 4 empty set\n",
    "custome_orders = set()\n",
    "\n",
    "user_demand = input('Please name three products from the list (\"t-shirt\", \"mug\", \"hat\", \"book\", \"keychain\"): ')\n",
    "\n",
    "print(user_demand)\n"
   ]
  },
  {
   "cell_type": "code",
   "execution_count": 7,
   "metadata": {},
   "outputs": [
    {
     "name": "stdout",
     "output_type": "stream",
     "text": [
      "['mug', ' hat', ' book']\n"
     ]
    }
   ],
   "source": [
    "split_user_demand = user_demand.split(\",\")\n",
    "\n",
    "print(split_user_demand)"
   ]
  },
  {
   "cell_type": "code",
   "execution_count": 8,
   "metadata": {},
   "outputs": [
    {
     "name": "stdout",
     "output_type": "stream",
     "text": [
      "{' hat', ' book', 'mug'}\n"
     ]
    }
   ],
   "source": [
    "for i in split_user_demand:\n",
    "    custome_orders.add(i)\n",
    "\n",
    "print(custome_orders)"
   ]
  },
  {
   "cell_type": "code",
   "execution_count": 9,
   "metadata": {},
   "outputs": [
    {
     "name": "stdout",
     "output_type": "stream",
     "text": [
      "15\n"
     ]
    }
   ],
   "source": [
    "# Task 7\n",
    "# The total number of products in the customer_orders set.\n",
    "\n",
    "sum_product = sum(inventory.values())\n",
    "\n",
    "print(sum_product)"
   ]
  },
  {
   "cell_type": "code",
   "execution_count": 10,
   "metadata": {},
   "outputs": [
    {
     "name": "stdout",
     "output_type": "stream",
     "text": [
      "[6.666666666666667, 13.333333333333334, 20.0, 26.666666666666668, 33.33333333333333]\n"
     ]
    }
   ],
   "source": [
    "# Percentage of Products Ordered: The percentage of products ordered compared to the total available products.\n",
    "\n",
    "percentage_ordered = []\n",
    "order_status = tuple(percentage_ordered)\n",
    "\n",
    "for value in inventory.values():\n",
    "     percentage_ordered.append(value / sum_product * 100)\n",
    "\n",
    "print(percentage_ordered)"
   ]
  },
  {
   "cell_type": "code",
   "execution_count": 11,
   "metadata": {},
   "outputs": [
    {
     "name": "stdout",
     "output_type": "stream",
     "text": [
      "Order Statisticss: Total Products Ordered: 15 Percentage of Products Ordered: t-shirt: 6.666666666666667%\n",
      "Order Statisticss: Total Products Ordered: 15 Percentage of Products Ordered: mug: 13.333333333333334%\n",
      "Order Statisticss: Total Products Ordered: 15 Percentage of Products Ordered: hat: 20.0%\n",
      "Order Statisticss: Total Products Ordered: 15 Percentage of Products Ordered: book: 26.666666666666668%\n",
      "Order Statisticss: Total Products Ordered: 15 Percentage of Products Ordered: keychain: 33.33333333333333%\n"
     ]
    }
   ],
   "source": [
    "# Print the order statistics using the following format:\n",
    "# Order Statistics:\n",
    "# Total Products Ordered: <total_products_ordered>\n",
    "# Percentage of Products Ordered: <percentage_ordered>% \n",
    "\n",
    "for item in products:\n",
    "    items = products.index(item)\n",
    "    print(f'Order Statisticss: Total Products Ordered: {sum_product} Percentage of Products Ordered: {products[items]}: {percentage_ordered[items]}%')\n",
    "\n",
    "\n"
   ]
  },
  {
   "cell_type": "code",
   "execution_count": 12,
   "metadata": {},
   "outputs": [
    {
     "name": "stdout",
     "output_type": "stream",
     "text": [
      "{'t-shirt': 0, 'mug': 1, 'hat': 2, 'book': 3, 'keychain': 4}\n"
     ]
    }
   ],
   "source": [
    "# Task 9 Update the inventory by subtracting 1 from the quantity of each product. Modify the inventory dictionary accordingly.\n",
    "\n",
    "new_value = []\n",
    "\n",
    "for value in inventory.values():\n",
    "    new_value.append(value - 1)\n",
    "\n",
    "inventory[\"t-shirt\"] = new_value[0]\n",
    "inventory[\"mug\"] = new_value[1]\n",
    "inventory[\"hat\"] = new_value[2]\n",
    "inventory[\"book\"] = new_value[3]\n",
    "inventory[\"keychain\"] = new_value[4]\n",
    "\n",
    "print(inventory)\n",
    "\n"
   ]
  },
  {
   "cell_type": "code",
   "execution_count": 13,
   "metadata": {},
   "outputs": [
    {
     "name": "stdout",
     "output_type": "stream",
     "text": [
      "t-shirt: 0\n",
      "mug: 1\n",
      "hat: 2\n",
      "book: 3\n",
      "keychain: 4\n"
     ]
    }
   ],
   "source": [
    "# Task 10 Print the updated inventory, displaying the quantity of each product on separate lines.\n",
    "\n",
    "for key, value in inventory.items():\n",
    "    print(f'{key}: {value}')\n"
   ]
  },
  {
   "cell_type": "code",
   "execution_count": null,
   "metadata": {},
   "outputs": [],
   "source": []
  }
 ],
 "metadata": {
  "kernelspec": {
   "display_name": "Python 3 (ipykernel)",
   "language": "python",
   "name": "python3"
  },
  "language_info": {
   "codemirror_mode": {
    "name": "ipython",
    "version": 3
   },
   "file_extension": ".py",
   "mimetype": "text/x-python",
   "name": "python",
   "nbconvert_exporter": "python",
   "pygments_lexer": "ipython3",
   "version": "3.11.7"
  }
 },
 "nbformat": 4,
 "nbformat_minor": 4
}
